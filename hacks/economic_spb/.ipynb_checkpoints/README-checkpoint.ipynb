{
 "cells": [
  {
   "attachments": {},
   "cell_type": "markdown",
   "id": "a8d2a9e9",
   "metadata": {},
   "source": [
    "# Алгоритм на страже экономической стабильности!\n",
    "\n",
    "**Описание проекта**\n",
    "\n",
    "Имеются исторические данные об экономических переменных квартальной и месячной периодичности, которые модель не видела до этого.\n",
    "\n",
    "**Цель**\n",
    "\n",
    "- Построить модель прогноза экономических переменных\n",
    "\n",
    "**Инструменты**\n",
    "- Язык - `Python`\n",
    "- `pandas` `numpy` `matplotlib` `seaborn` `scikit-learn` `statsmodels` `prophet`\n",
    "\n",
    "**Статус**\n",
    "`В работе`"
   ]
  }
 ],
 "metadata": {
  "kernelspec": {
   "display_name": "Python 3 (ipykernel)",
   "language": "python",
   "name": "python3"
  },
  "language_info": {
   "codemirror_mode": {
    "name": "ipython",
    "version": 3
   },
   "file_extension": ".py",
   "mimetype": "text/x-python",
   "name": "python",
   "nbconvert_exporter": "python",
   "pygments_lexer": "ipython3",
   "version": "3.7.8"
  },
  "toc": {
   "base_numbering": 1,
   "nav_menu": {},
   "number_sections": true,
   "sideBar": true,
   "skip_h1_title": false,
   "title_cell": "Table of Contents",
   "title_sidebar": "Contents",
   "toc_cell": false,
   "toc_position": {},
   "toc_section_display": true,
   "toc_window_display": false
  }
 },
 "nbformat": 4,
 "nbformat_minor": 5
}
